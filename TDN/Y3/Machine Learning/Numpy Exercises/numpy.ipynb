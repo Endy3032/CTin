{
 "cells": [
  {
   "cell_type": "code",
   "execution_count": 2,
   "metadata": {},
   "outputs": [
    {
     "name": "stdout",
     "output_type": "stream",
     "text": [
      "1.26.4\n"
     ]
    }
   ],
   "source": [
    "import numpy as np\n",
    "print(np.__version__)"
   ]
  },
  {
   "cell_type": "code",
   "execution_count": 10,
   "metadata": {},
   "outputs": [
    {
     "name": "stdout",
     "output_type": "stream",
     "text": [
      "(4, 2) 2 2\n"
     ]
    }
   ],
   "source": [
    "a = np.empty([4, 2], dtype=np.uint16)\n",
    "print(a.shape, a.ndim, a.itemsize)"
   ]
  },
  {
   "cell_type": "code",
   "execution_count": 14,
   "metadata": {},
   "outputs": [
    {
     "name": "stdout",
     "output_type": "stream",
     "text": [
      "[[100 110]\n",
      " [120 130]\n",
      " [140 150]\n",
      " [160 170]\n",
      " [180 190]]\n"
     ]
    }
   ],
   "source": [
    "b = np.arange(100, 200, 10).reshape(5, 2)\n",
    "print(b)"
   ]
  },
  {
   "cell_type": "code",
   "execution_count": 46,
   "metadata": {},
   "outputs": [
    {
     "name": "stdout",
     "output_type": "stream",
     "text": [
      "[[11 22 33]\n",
      " [44 55 66]\n",
      " [77 88 99]]\n",
      "[33 66 99]\n",
      "[33 66 99]\n"
     ]
    }
   ],
   "source": [
    "sampleArray = np.array([[11, 22, 33], [44, 55, 66], [77, 88, 99]])\n",
    "print(sampleArray)\n",
    "print(sampleArray.take(2, axis=1))\n",
    "print(sampleArray[::, 2])"
   ]
  },
  {
   "cell_type": "code",
   "execution_count": 48,
   "metadata": {},
   "outputs": [
    {
     "name": "stdout",
     "output_type": "stream",
     "text": [
      "[[ 3  6  9 12]\n",
      " [15 18 21 24]\n",
      " [27 30 33 36]\n",
      " [39 42 45 48]\n",
      " [51 54 57 60]]\n",
      "[[ 6 12]\n",
      " [30 36]\n",
      " [54 60]]\n"
     ]
    }
   ],
   "source": [
    "sampleArray = np.array([\n",
    "\t[3, 6, 9, 12],\n",
    "\t[15, 18, 21, 24],\n",
    "\t[27, 30, 33, 36],\n",
    "\t[39, 42, 45, 48],\n",
    "\t[51, 54, 57, 60],\n",
    "])\n",
    "print(sampleArray)\n",
    "print(sampleArray[::2, 1::2])"
   ]
  },
  {
   "cell_type": "code",
   "execution_count": 58,
   "metadata": {},
   "outputs": [
    {
     "name": "stdout",
     "output_type": "stream",
     "text": [
      "[[20 39 33]\n",
      " [25 25 28]]\n",
      "[[ 400 1521 1089]\n",
      " [ 625  625  784]]\n"
     ]
    }
   ],
   "source": [
    "arrayOne = np.array([[5, 6, 9], [21, 18, 27]])\n",
    "arrayTwo = np.array([[15, 33, 24], [4, 7, 1]])\n",
    "\n",
    "res = arrayOne + arrayTwo\n",
    "print(res)\n",
    "print(res ** 2)"
   ]
  },
  {
   "cell_type": "code",
   "execution_count": 61,
   "metadata": {},
   "outputs": [
    {
     "name": "stdout",
     "output_type": "stream",
     "text": [
      "[[10 11 12]\n",
      " [13 14 15]\n",
      " [16 17 18]\n",
      " [19 20 21]\n",
      " [22 23 24]\n",
      " [25 26 27]\n",
      " [28 29 30]\n",
      " [31 32 33]]\n"
     ]
    },
    {
     "data": {
      "text/plain": [
       "[array([[10, 11, 12],\n",
       "        [13, 14, 15]]),\n",
       " array([[16, 17, 18],\n",
       "        [19, 20, 21]]),\n",
       " array([[22, 23, 24],\n",
       "        [25, 26, 27]]),\n",
       " array([[28, 29, 30],\n",
       "        [31, 32, 33]])]"
      ]
     },
     "execution_count": 61,
     "metadata": {},
     "output_type": "execute_result"
    }
   ],
   "source": [
    "src = np.arange(10, 34, 1).reshape(8, 3)\n",
    "print(src)\n",
    "np.split(src, 4)"
   ]
  },
  {
   "cell_type": "code",
   "execution_count": 91,
   "metadata": {},
   "outputs": [
    {
     "name": "stdout",
     "output_type": "stream",
     "text": [
      "[[34 43 73]\n",
      " [82 22 12]\n",
      " [53 94 66]]\n",
      "sort by second row\n",
      "[[73 43 34]\n",
      " [12 22 82]\n",
      " [66 94 53]]\n",
      "sort by second column\n",
      "[[82 22 12]\n",
      " [34 43 73]\n",
      " [53 94 66]]\n"
     ]
    }
   ],
   "source": [
    "sampleArray = np.array([[34, 43, 73], [82, 22, 12], [53, 94, 66]])\n",
    "print(sampleArray)\n",
    "\n",
    "print(\"sort by second row\")\n",
    "print(sampleArray[:, sampleArray[1].argsort()])\n",
    "\n",
    "print(\"sort by second column\")\n",
    "print(sampleArray[sampleArray[:, 1].argsort()])"
   ]
  },
  {
   "cell_type": "code",
   "execution_count": 95,
   "metadata": {},
   "outputs": [
    {
     "name": "stdout",
     "output_type": "stream",
     "text": [
      "[34 12 53]\n",
      "[82 94 73]\n"
     ]
    }
   ],
   "source": [
    "sampleArray = np.array([[34, 43, 73], [82, 22, 12], [53, 94, 66]])\n",
    "print(np.amin(sampleArray, 1))\n",
    "print(np.amax(sampleArray, 0))"
   ]
  },
  {
   "cell_type": "code",
   "execution_count": 100,
   "metadata": {},
   "outputs": [
    {
     "name": "stdout",
     "output_type": "stream",
     "text": [
      "[[34 73]\n",
      " [82 12]\n",
      " [53 66]]\n"
     ]
    },
    {
     "data": {
      "text/plain": [
       "array([[34, 10, 73],\n",
       "       [82, 10, 12],\n",
       "       [53, 10, 66]])"
      ]
     },
     "execution_count": 100,
     "metadata": {},
     "output_type": "execute_result"
    }
   ],
   "source": [
    "sampleArray = np.array([[34, 43, 73], [82, 22, 12], [53, 94, 66]])\n",
    "newColumn = np.array([[10, 10, 10]])\n",
    "\n",
    "newArray = np.delete(sampleArray, 1, 1)\n",
    "print(newArray)\n",
    "np.insert(newArray, 1, newColumn, axis=1)"
   ]
  }
 ],
 "metadata": {
  "kernelspec": {
   "display_name": "ctin",
   "language": "python",
   "name": "python3"
  },
  "language_info": {
   "codemirror_mode": {
    "name": "ipython",
    "version": 3
   },
   "file_extension": ".py",
   "mimetype": "text/x-python",
   "name": "python",
   "nbconvert_exporter": "python",
   "pygments_lexer": "ipython3",
   "version": "3.12.7"
  }
 },
 "nbformat": 4,
 "nbformat_minor": 2
}
